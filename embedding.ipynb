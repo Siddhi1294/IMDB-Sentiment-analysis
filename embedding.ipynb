{
 "cells": [
  {
   "cell_type": "code",
   "execution_count": 1,
   "metadata": {},
   "outputs": [],
   "source": [
    "from tensorflow.keras.preprocessing.text import one_hot"
   ]
  },
  {
   "cell_type": "code",
   "execution_count": 2,
   "metadata": {},
   "outputs": [],
   "source": [
    "### sentences\n",
    "sent=[  'the glass of milk',\n",
    "     'the glass of juice',\n",
    "     'the cup of tea',\n",
    "    'I am a good boy',\n",
    "     'I am a good developer',\n",
    "     'understand the meaning of words',\n",
    "     'your videos are good',]"
   ]
  },
  {
   "cell_type": "code",
   "execution_count": 3,
   "metadata": {},
   "outputs": [
    {
     "data": {
      "text/plain": [
       "['the glass of milk',\n",
       " 'the glass of juice',\n",
       " 'the cup of tea',\n",
       " 'I am a good boy',\n",
       " 'I am a good developer',\n",
       " 'understand the meaning of words',\n",
       " 'your videos are good']"
      ]
     },
     "execution_count": 3,
     "metadata": {},
     "output_type": "execute_result"
    }
   ],
   "source": [
    "sent"
   ]
  },
  {
   "cell_type": "code",
   "execution_count": 4,
   "metadata": {},
   "outputs": [],
   "source": [
    "## Define the vocabulary size\n",
    "voc_size=100"
   ]
  },
  {
   "cell_type": "code",
   "execution_count": 5,
   "metadata": {},
   "outputs": [
    {
     "data": {
      "text/plain": [
       "[[87, 36, 25, 58],\n",
       " [87, 36, 25, 34],\n",
       " [87, 10, 25, 19],\n",
       " [76, 21, 30, 79, 25],\n",
       " [76, 21, 30, 79, 65],\n",
       " [73, 87, 14, 25, 70],\n",
       " [39, 19, 82, 79]]"
      ]
     },
     "execution_count": 5,
     "metadata": {},
     "output_type": "execute_result"
    }
   ],
   "source": [
    "one_hot_rpr = [one_hot(words,voc_size) for words in sent]\n",
    "one_hot_rpr"
   ]
  },
  {
   "cell_type": "code",
   "execution_count": 6,
   "metadata": {},
   "outputs": [],
   "source": [
    "from tensorflow.keras.layers import Embedding\n",
    "from tensorflow.keras.models import Sequential\n",
    "from tensorflow.keras.utils import pad_sequences"
   ]
  },
  {
   "cell_type": "code",
   "execution_count": 7,
   "metadata": {},
   "outputs": [],
   "source": [
    "import numpy as np"
   ]
  },
  {
   "cell_type": "code",
   "execution_count": 8,
   "metadata": {},
   "outputs": [
    {
     "data": {
      "text/plain": [
       "array([[ 0,  0,  0,  0, 87, 36, 25, 58],\n",
       "       [ 0,  0,  0,  0, 87, 36, 25, 34],\n",
       "       [ 0,  0,  0,  0, 87, 10, 25, 19],\n",
       "       [ 0,  0,  0, 76, 21, 30, 79, 25],\n",
       "       [ 0,  0,  0, 76, 21, 30, 79, 65],\n",
       "       [ 0,  0,  0, 73, 87, 14, 25, 70],\n",
       "       [ 0,  0,  0,  0, 39, 19, 82, 79]], dtype=int32)"
      ]
     },
     "execution_count": 8,
     "metadata": {},
     "output_type": "execute_result"
    }
   ],
   "source": [
    "sent_length = 8\n",
    "embedded_docs = pad_sequences(one_hot_rpr,padding='pre',maxlen=sent_length)\n",
    "embedded_docs"
   ]
  },
  {
   "cell_type": "code",
   "execution_count": 9,
   "metadata": {},
   "outputs": [],
   "source": [
    "dim=10\n"
   ]
  },
  {
   "cell_type": "code",
   "execution_count": 10,
   "metadata": {},
   "outputs": [
    {
     "name": "stderr",
     "output_type": "stream",
     "text": [
      "c:\\Users\\Shruti\\Python Practice Folder\\Udemy_GenAI\\venv\\Lib\\site-packages\\keras\\src\\layers\\core\\embedding.py:93: UserWarning: Do not pass an `input_shape`/`input_dim` argument to a layer. When using Sequential models, prefer using an `Input(shape)` object as the first layer in the model instead.\n",
      "  super().__init__(**kwargs)\n"
     ]
    }
   ],
   "source": [
    "model=Sequential()\n",
    "#model.add(Embedding(voc_size,dim,input_length=sent_length))\n",
    "model.add(Embedding(input_dim=voc_size, output_dim=dim, input_shape=(sent_length,)))\n",
    "model.compile('adam','mse')"
   ]
  },
  {
   "cell_type": "code",
   "execution_count": 11,
   "metadata": {},
   "outputs": [
    {
     "data": {
      "text/html": [
       "<pre style=\"white-space:pre;overflow-x:auto;line-height:normal;font-family:Menlo,'DejaVu Sans Mono',consolas,'Courier New',monospace\"><span style=\"font-weight: bold\">Model: \"sequential\"</span>\n",
       "</pre>\n"
      ],
      "text/plain": [
       "\u001b[1mModel: \"sequential\"\u001b[0m\n"
      ]
     },
     "metadata": {},
     "output_type": "display_data"
    },
    {
     "data": {
      "text/html": [
       "<pre style=\"white-space:pre;overflow-x:auto;line-height:normal;font-family:Menlo,'DejaVu Sans Mono',consolas,'Courier New',monospace\">┏━━━━━━━━━━━━━━━━━━━━━━━━━━━━━━━━━┳━━━━━━━━━━━━━━━━━━━━━━━━┳━━━━━━━━━━━━━━━┓\n",
       "┃<span style=\"font-weight: bold\"> Layer (type)                    </span>┃<span style=\"font-weight: bold\"> Output Shape           </span>┃<span style=\"font-weight: bold\">       Param # </span>┃\n",
       "┡━━━━━━━━━━━━━━━━━━━━━━━━━━━━━━━━━╇━━━━━━━━━━━━━━━━━━━━━━━━╇━━━━━━━━━━━━━━━┩\n",
       "│ embedding (<span style=\"color: #0087ff; text-decoration-color: #0087ff\">Embedding</span>)           │ (<span style=\"color: #00d7ff; text-decoration-color: #00d7ff\">None</span>, <span style=\"color: #00af00; text-decoration-color: #00af00\">8</span>, <span style=\"color: #00af00; text-decoration-color: #00af00\">10</span>)          │         <span style=\"color: #00af00; text-decoration-color: #00af00\">1,000</span> │\n",
       "└─────────────────────────────────┴────────────────────────┴───────────────┘\n",
       "</pre>\n"
      ],
      "text/plain": [
       "┏━━━━━━━━━━━━━━━━━━━━━━━━━━━━━━━━━┳━━━━━━━━━━━━━━━━━━━━━━━━┳━━━━━━━━━━━━━━━┓\n",
       "┃\u001b[1m \u001b[0m\u001b[1mLayer (type)                   \u001b[0m\u001b[1m \u001b[0m┃\u001b[1m \u001b[0m\u001b[1mOutput Shape          \u001b[0m\u001b[1m \u001b[0m┃\u001b[1m \u001b[0m\u001b[1m      Param #\u001b[0m\u001b[1m \u001b[0m┃\n",
       "┡━━━━━━━━━━━━━━━━━━━━━━━━━━━━━━━━━╇━━━━━━━━━━━━━━━━━━━━━━━━╇━━━━━━━━━━━━━━━┩\n",
       "│ embedding (\u001b[38;5;33mEmbedding\u001b[0m)           │ (\u001b[38;5;45mNone\u001b[0m, \u001b[38;5;34m8\u001b[0m, \u001b[38;5;34m10\u001b[0m)          │         \u001b[38;5;34m1,000\u001b[0m │\n",
       "└─────────────────────────────────┴────────────────────────┴───────────────┘\n"
      ]
     },
     "metadata": {},
     "output_type": "display_data"
    },
    {
     "data": {
      "text/html": [
       "<pre style=\"white-space:pre;overflow-x:auto;line-height:normal;font-family:Menlo,'DejaVu Sans Mono',consolas,'Courier New',monospace\"><span style=\"font-weight: bold\"> Total params: </span><span style=\"color: #00af00; text-decoration-color: #00af00\">1,000</span> (3.91 KB)\n",
       "</pre>\n"
      ],
      "text/plain": [
       "\u001b[1m Total params: \u001b[0m\u001b[38;5;34m1,000\u001b[0m (3.91 KB)\n"
      ]
     },
     "metadata": {},
     "output_type": "display_data"
    },
    {
     "data": {
      "text/html": [
       "<pre style=\"white-space:pre;overflow-x:auto;line-height:normal;font-family:Menlo,'DejaVu Sans Mono',consolas,'Courier New',monospace\"><span style=\"font-weight: bold\"> Trainable params: </span><span style=\"color: #00af00; text-decoration-color: #00af00\">1,000</span> (3.91 KB)\n",
       "</pre>\n"
      ],
      "text/plain": [
       "\u001b[1m Trainable params: \u001b[0m\u001b[38;5;34m1,000\u001b[0m (3.91 KB)\n"
      ]
     },
     "metadata": {},
     "output_type": "display_data"
    },
    {
     "data": {
      "text/html": [
       "<pre style=\"white-space:pre;overflow-x:auto;line-height:normal;font-family:Menlo,'DejaVu Sans Mono',consolas,'Courier New',monospace\"><span style=\"font-weight: bold\"> Non-trainable params: </span><span style=\"color: #00af00; text-decoration-color: #00af00\">0</span> (0.00 B)\n",
       "</pre>\n"
      ],
      "text/plain": [
       "\u001b[1m Non-trainable params: \u001b[0m\u001b[38;5;34m0\u001b[0m (0.00 B)\n"
      ]
     },
     "metadata": {},
     "output_type": "display_data"
    }
   ],
   "source": [
    "model.summary()"
   ]
  },
  {
   "cell_type": "code",
   "execution_count": 12,
   "metadata": {},
   "outputs": [
    {
     "name": "stdout",
     "output_type": "stream",
     "text": [
      "\u001b[1m1/1\u001b[0m \u001b[32m━━━━━━━━━━━━━━━━━━━━\u001b[0m\u001b[37m\u001b[0m \u001b[1m0s\u001b[0m 178ms/step\n"
     ]
    },
    {
     "data": {
      "text/plain": [
       "array([[[-0.02235712, -0.04130381, -0.0205447 , -0.01778395,\n",
       "          0.00759864,  0.00869515, -0.04694579,  0.03056763,\n",
       "          0.01182168, -0.03033757],\n",
       "        [-0.02235712, -0.04130381, -0.0205447 , -0.01778395,\n",
       "          0.00759864,  0.00869515, -0.04694579,  0.03056763,\n",
       "          0.01182168, -0.03033757],\n",
       "        [-0.02235712, -0.04130381, -0.0205447 , -0.01778395,\n",
       "          0.00759864,  0.00869515, -0.04694579,  0.03056763,\n",
       "          0.01182168, -0.03033757],\n",
       "        [-0.02235712, -0.04130381, -0.0205447 , -0.01778395,\n",
       "          0.00759864,  0.00869515, -0.04694579,  0.03056763,\n",
       "          0.01182168, -0.03033757],\n",
       "        [-0.03034936, -0.00326556, -0.04614586, -0.02038895,\n",
       "         -0.047387  ,  0.00588362, -0.04083035,  0.01164311,\n",
       "          0.01697223, -0.04257982],\n",
       "        [ 0.03380034,  0.02434209,  0.00950378, -0.01307186,\n",
       "         -0.04147602, -0.01863839, -0.00714685, -0.02663933,\n",
       "         -0.01017357,  0.02913583],\n",
       "        [ 0.01294697, -0.0409859 ,  0.04423281,  0.00544475,\n",
       "          0.00307759,  0.01152509,  0.04363981,  0.00722778,\n",
       "          0.03707451,  0.01888177],\n",
       "        [ 0.01658471, -0.02559165, -0.01169984,  0.00754255,\n",
       "          0.00173102,  0.00868833, -0.0404944 , -0.01601214,\n",
       "         -0.01100664,  0.00449843]],\n",
       "\n",
       "       [[-0.02235712, -0.04130381, -0.0205447 , -0.01778395,\n",
       "          0.00759864,  0.00869515, -0.04694579,  0.03056763,\n",
       "          0.01182168, -0.03033757],\n",
       "        [-0.02235712, -0.04130381, -0.0205447 , -0.01778395,\n",
       "          0.00759864,  0.00869515, -0.04694579,  0.03056763,\n",
       "          0.01182168, -0.03033757],\n",
       "        [-0.02235712, -0.04130381, -0.0205447 , -0.01778395,\n",
       "          0.00759864,  0.00869515, -0.04694579,  0.03056763,\n",
       "          0.01182168, -0.03033757],\n",
       "        [-0.02235712, -0.04130381, -0.0205447 , -0.01778395,\n",
       "          0.00759864,  0.00869515, -0.04694579,  0.03056763,\n",
       "          0.01182168, -0.03033757],\n",
       "        [-0.03034936, -0.00326556, -0.04614586, -0.02038895,\n",
       "         -0.047387  ,  0.00588362, -0.04083035,  0.01164311,\n",
       "          0.01697223, -0.04257982],\n",
       "        [ 0.03380034,  0.02434209,  0.00950378, -0.01307186,\n",
       "         -0.04147602, -0.01863839, -0.00714685, -0.02663933,\n",
       "         -0.01017357,  0.02913583],\n",
       "        [ 0.01294697, -0.0409859 ,  0.04423281,  0.00544475,\n",
       "          0.00307759,  0.01152509,  0.04363981,  0.00722778,\n",
       "          0.03707451,  0.01888177],\n",
       "        [ 0.02000692,  0.0289523 ,  0.0330263 , -0.04641492,\n",
       "          0.00895009, -0.0005131 , -0.03189573, -0.02741373,\n",
       "          0.0246715 ,  0.03990816]],\n",
       "\n",
       "       [[-0.02235712, -0.04130381, -0.0205447 , -0.01778395,\n",
       "          0.00759864,  0.00869515, -0.04694579,  0.03056763,\n",
       "          0.01182168, -0.03033757],\n",
       "        [-0.02235712, -0.04130381, -0.0205447 , -0.01778395,\n",
       "          0.00759864,  0.00869515, -0.04694579,  0.03056763,\n",
       "          0.01182168, -0.03033757],\n",
       "        [-0.02235712, -0.04130381, -0.0205447 , -0.01778395,\n",
       "          0.00759864,  0.00869515, -0.04694579,  0.03056763,\n",
       "          0.01182168, -0.03033757],\n",
       "        [-0.02235712, -0.04130381, -0.0205447 , -0.01778395,\n",
       "          0.00759864,  0.00869515, -0.04694579,  0.03056763,\n",
       "          0.01182168, -0.03033757],\n",
       "        [-0.03034936, -0.00326556, -0.04614586, -0.02038895,\n",
       "         -0.047387  ,  0.00588362, -0.04083035,  0.01164311,\n",
       "          0.01697223, -0.04257982],\n",
       "        [-0.0441318 , -0.01200774,  0.0358979 , -0.04196052,\n",
       "         -0.03906615, -0.01607506,  0.01370989, -0.02764725,\n",
       "          0.0247566 , -0.03268696],\n",
       "        [ 0.01294697, -0.0409859 ,  0.04423281,  0.00544475,\n",
       "          0.00307759,  0.01152509,  0.04363981,  0.00722778,\n",
       "          0.03707451,  0.01888177],\n",
       "        [-0.00035486, -0.00556209,  0.03860109,  0.04316455,\n",
       "         -0.0384012 , -0.00495033,  0.01714117, -0.01197586,\n",
       "          0.04206513,  0.02037654]],\n",
       "\n",
       "       [[-0.02235712, -0.04130381, -0.0205447 , -0.01778395,\n",
       "          0.00759864,  0.00869515, -0.04694579,  0.03056763,\n",
       "          0.01182168, -0.03033757],\n",
       "        [-0.02235712, -0.04130381, -0.0205447 , -0.01778395,\n",
       "          0.00759864,  0.00869515, -0.04694579,  0.03056763,\n",
       "          0.01182168, -0.03033757],\n",
       "        [-0.02235712, -0.04130381, -0.0205447 , -0.01778395,\n",
       "          0.00759864,  0.00869515, -0.04694579,  0.03056763,\n",
       "          0.01182168, -0.03033757],\n",
       "        [ 0.04962439, -0.01939129,  0.00586517,  0.00646821,\n",
       "         -0.04957427, -0.04093317,  0.04765255,  0.01017664,\n",
       "         -0.02878618,  0.0187142 ],\n",
       "        [ 0.01496432, -0.02288878,  0.01166453, -0.00015376,\n",
       "          0.01729785,  0.01632683,  0.01153071,  0.00971284,\n",
       "         -0.03952635, -0.02659931],\n",
       "        [-0.01777145,  0.0487213 , -0.04444108, -0.00119155,\n",
       "          0.02113742, -0.03837291,  0.00361843, -0.04232798,\n",
       "         -0.04299468,  0.0450349 ],\n",
       "        [-0.02732387, -0.00960235, -0.02489512, -0.04478502,\n",
       "          0.04088129, -0.00147071, -0.03769464,  0.00795925,\n",
       "         -0.03996038, -0.04798172],\n",
       "        [ 0.01294697, -0.0409859 ,  0.04423281,  0.00544475,\n",
       "          0.00307759,  0.01152509,  0.04363981,  0.00722778,\n",
       "          0.03707451,  0.01888177]],\n",
       "\n",
       "       [[-0.02235712, -0.04130381, -0.0205447 , -0.01778395,\n",
       "          0.00759864,  0.00869515, -0.04694579,  0.03056763,\n",
       "          0.01182168, -0.03033757],\n",
       "        [-0.02235712, -0.04130381, -0.0205447 , -0.01778395,\n",
       "          0.00759864,  0.00869515, -0.04694579,  0.03056763,\n",
       "          0.01182168, -0.03033757],\n",
       "        [-0.02235712, -0.04130381, -0.0205447 , -0.01778395,\n",
       "          0.00759864,  0.00869515, -0.04694579,  0.03056763,\n",
       "          0.01182168, -0.03033757],\n",
       "        [ 0.04962439, -0.01939129,  0.00586517,  0.00646821,\n",
       "         -0.04957427, -0.04093317,  0.04765255,  0.01017664,\n",
       "         -0.02878618,  0.0187142 ],\n",
       "        [ 0.01496432, -0.02288878,  0.01166453, -0.00015376,\n",
       "          0.01729785,  0.01632683,  0.01153071,  0.00971284,\n",
       "         -0.03952635, -0.02659931],\n",
       "        [-0.01777145,  0.0487213 , -0.04444108, -0.00119155,\n",
       "          0.02113742, -0.03837291,  0.00361843, -0.04232798,\n",
       "         -0.04299468,  0.0450349 ],\n",
       "        [-0.02732387, -0.00960235, -0.02489512, -0.04478502,\n",
       "          0.04088129, -0.00147071, -0.03769464,  0.00795925,\n",
       "         -0.03996038, -0.04798172],\n",
       "        [-0.04627603, -0.00752219,  0.02114348,  0.004117  ,\n",
       "         -0.04041862,  0.00108769, -0.03188752, -0.01944773,\n",
       "          0.00529514, -0.00429289]],\n",
       "\n",
       "       [[-0.02235712, -0.04130381, -0.0205447 , -0.01778395,\n",
       "          0.00759864,  0.00869515, -0.04694579,  0.03056763,\n",
       "          0.01182168, -0.03033757],\n",
       "        [-0.02235712, -0.04130381, -0.0205447 , -0.01778395,\n",
       "          0.00759864,  0.00869515, -0.04694579,  0.03056763,\n",
       "          0.01182168, -0.03033757],\n",
       "        [-0.02235712, -0.04130381, -0.0205447 , -0.01778395,\n",
       "          0.00759864,  0.00869515, -0.04694579,  0.03056763,\n",
       "          0.01182168, -0.03033757],\n",
       "        [ 0.03879467, -0.04821589, -0.0094059 ,  0.01353471,\n",
       "         -0.03436571,  0.04681053,  0.02703908,  0.03774334,\n",
       "          0.0441629 , -0.04514282],\n",
       "        [-0.03034936, -0.00326556, -0.04614586, -0.02038895,\n",
       "         -0.047387  ,  0.00588362, -0.04083035,  0.01164311,\n",
       "          0.01697223, -0.04257982],\n",
       "        [ 0.01022021, -0.0281185 ,  0.00228735, -0.02997162,\n",
       "         -0.03002919,  0.0390664 ,  0.00671512, -0.02127538,\n",
       "          0.03370894, -0.00959761],\n",
       "        [ 0.01294697, -0.0409859 ,  0.04423281,  0.00544475,\n",
       "          0.00307759,  0.01152509,  0.04363981,  0.00722778,\n",
       "          0.03707451,  0.01888177],\n",
       "        [ 0.03619195,  0.01082649, -0.00964745, -0.01202611,\n",
       "         -0.01306076,  0.04842271, -0.01210008,  0.03335844,\n",
       "         -0.02014056,  0.03510029]],\n",
       "\n",
       "       [[-0.02235712, -0.04130381, -0.0205447 , -0.01778395,\n",
       "          0.00759864,  0.00869515, -0.04694579,  0.03056763,\n",
       "          0.01182168, -0.03033757],\n",
       "        [-0.02235712, -0.04130381, -0.0205447 , -0.01778395,\n",
       "          0.00759864,  0.00869515, -0.04694579,  0.03056763,\n",
       "          0.01182168, -0.03033757],\n",
       "        [-0.02235712, -0.04130381, -0.0205447 , -0.01778395,\n",
       "          0.00759864,  0.00869515, -0.04694579,  0.03056763,\n",
       "          0.01182168, -0.03033757],\n",
       "        [-0.02235712, -0.04130381, -0.0205447 , -0.01778395,\n",
       "          0.00759864,  0.00869515, -0.04694579,  0.03056763,\n",
       "          0.01182168, -0.03033757],\n",
       "        [ 0.00236953, -0.04753512, -0.00497738,  0.00978643,\n",
       "          0.04102813,  0.00470633,  0.01266604, -0.04944481,\n",
       "         -0.03437348, -0.02154576],\n",
       "        [-0.00035486, -0.00556209,  0.03860109,  0.04316455,\n",
       "         -0.0384012 , -0.00495033,  0.01714117, -0.01197586,\n",
       "          0.04206513,  0.02037654],\n",
       "        [-0.02033331,  0.0476475 , -0.03168532,  0.03303396,\n",
       "          0.04483812, -0.01490738,  0.01955353, -0.01419381,\n",
       "         -0.03998865, -0.0008724 ],\n",
       "        [-0.02732387, -0.00960235, -0.02489512, -0.04478502,\n",
       "          0.04088129, -0.00147071, -0.03769464,  0.00795925,\n",
       "         -0.03996038, -0.04798172]]], dtype=float32)"
      ]
     },
     "execution_count": 12,
     "metadata": {},
     "output_type": "execute_result"
    }
   ],
   "source": [
    "model.predict(embedded_docs)"
   ]
  },
  {
   "cell_type": "code",
   "execution_count": 13,
   "metadata": {},
   "outputs": [
    {
     "data": {
      "text/plain": [
       "array([ 0,  0,  0,  0, 87, 36, 25, 58], dtype=int32)"
      ]
     },
     "execution_count": 13,
     "metadata": {},
     "output_type": "execute_result"
    }
   ],
   "source": [
    "embedded_docs[0]"
   ]
  },
  {
   "cell_type": "code",
   "execution_count": 14,
   "metadata": {},
   "outputs": [
    {
     "ename": "ValueError",
     "evalue": "Exception encountered when calling Sequential.call().\n\n\u001b[1mCannot take the length of shape with unknown rank.\u001b[0m\n\nArguments received by Sequential.call():\n  • inputs=tf.Tensor(shape=<unknown>, dtype=int32)\n  • training=False\n  • mask=None",
     "output_type": "error",
     "traceback": [
      "\u001b[1;31m---------------------------------------------------------------------------\u001b[0m",
      "\u001b[1;31mValueError\u001b[0m                                Traceback (most recent call last)",
      "Cell \u001b[1;32mIn[14], line 1\u001b[0m\n\u001b[1;32m----> 1\u001b[0m \u001b[43mmodel\u001b[49m\u001b[38;5;241;43m.\u001b[39;49m\u001b[43mpredict\u001b[49m\u001b[43m(\u001b[49m\u001b[43membedded_docs\u001b[49m\u001b[43m[\u001b[49m\u001b[38;5;241;43m0\u001b[39;49m\u001b[43m]\u001b[49m\u001b[43m)\u001b[49m\n",
      "File \u001b[1;32mc:\\Users\\Shruti\\Python Practice Folder\\Udemy_GenAI\\venv\\Lib\\site-packages\\keras\\src\\utils\\traceback_utils.py:122\u001b[0m, in \u001b[0;36mfilter_traceback.<locals>.error_handler\u001b[1;34m(*args, **kwargs)\u001b[0m\n\u001b[0;32m    119\u001b[0m     filtered_tb \u001b[38;5;241m=\u001b[39m _process_traceback_frames(e\u001b[38;5;241m.\u001b[39m__traceback__)\n\u001b[0;32m    120\u001b[0m     \u001b[38;5;66;03m# To get the full stack trace, call:\u001b[39;00m\n\u001b[0;32m    121\u001b[0m     \u001b[38;5;66;03m# `keras.config.disable_traceback_filtering()`\u001b[39;00m\n\u001b[1;32m--> 122\u001b[0m     \u001b[38;5;28;01mraise\u001b[39;00m e\u001b[38;5;241m.\u001b[39mwith_traceback(filtered_tb) \u001b[38;5;28;01mfrom\u001b[39;00m \u001b[38;5;28;01mNone\u001b[39;00m\n\u001b[0;32m    123\u001b[0m \u001b[38;5;28;01mfinally\u001b[39;00m:\n\u001b[0;32m    124\u001b[0m     \u001b[38;5;28;01mdel\u001b[39;00m filtered_tb\n",
      "File \u001b[1;32mc:\\Users\\Shruti\\Python Practice Folder\\Udemy_GenAI\\venv\\Lib\\site-packages\\keras\\src\\utils\\traceback_utils.py:122\u001b[0m, in \u001b[0;36mfilter_traceback.<locals>.error_handler\u001b[1;34m(*args, **kwargs)\u001b[0m\n\u001b[0;32m    119\u001b[0m     filtered_tb \u001b[38;5;241m=\u001b[39m _process_traceback_frames(e\u001b[38;5;241m.\u001b[39m__traceback__)\n\u001b[0;32m    120\u001b[0m     \u001b[38;5;66;03m# To get the full stack trace, call:\u001b[39;00m\n\u001b[0;32m    121\u001b[0m     \u001b[38;5;66;03m# `keras.config.disable_traceback_filtering()`\u001b[39;00m\n\u001b[1;32m--> 122\u001b[0m     \u001b[38;5;28;01mraise\u001b[39;00m e\u001b[38;5;241m.\u001b[39mwith_traceback(filtered_tb) \u001b[38;5;28;01mfrom\u001b[39;00m \u001b[38;5;28;01mNone\u001b[39;00m\n\u001b[0;32m    123\u001b[0m \u001b[38;5;28;01mfinally\u001b[39;00m:\n\u001b[0;32m    124\u001b[0m     \u001b[38;5;28;01mdel\u001b[39;00m filtered_tb\n",
      "\u001b[1;31mValueError\u001b[0m: Exception encountered when calling Sequential.call().\n\n\u001b[1mCannot take the length of shape with unknown rank.\u001b[0m\n\nArguments received by Sequential.call():\n  • inputs=tf.Tensor(shape=<unknown>, dtype=int32)\n  • training=False\n  • mask=None"
     ]
    }
   ],
   "source": [
    "model.predict(embedded_docs[0])"
   ]
  },
  {
   "cell_type": "code",
   "execution_count": null,
   "metadata": {},
   "outputs": [],
   "source": []
  },
  {
   "cell_type": "code",
   "execution_count": null,
   "metadata": {},
   "outputs": [],
   "source": []
  }
 ],
 "metadata": {
  "kernelspec": {
   "display_name": "Python 3",
   "language": "python",
   "name": "python3"
  },
  "language_info": {
   "codemirror_mode": {
    "name": "ipython",
    "version": 3
   },
   "file_extension": ".py",
   "mimetype": "text/x-python",
   "name": "python",
   "nbconvert_exporter": "python",
   "pygments_lexer": "ipython3",
   "version": "3.12.0"
  }
 },
 "nbformat": 4,
 "nbformat_minor": 2
}
